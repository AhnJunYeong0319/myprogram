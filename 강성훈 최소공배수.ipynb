{
 "cells": [
  {
   "cell_type": "code",
   "execution_count": null,
   "metadata": {},
   "outputs": [],
   "source": []
  },
  {
   "cell_type": "code",
   "execution_count": 4,
   "metadata": {},
   "outputs": [
    {
     "name": "stdout",
     "output_type": "stream",
     "text": [
      "Enter a: 12\n",
      "Enter b: 34\n",
      "Enter c: 56\n",
      "2856\n"
     ]
    }
   ],
   "source": [
    "from math import gcd\n",
    "\n",
    "def choi_so(list):\n",
    "    def lcm(x, y):\n",
    "        return x * y // gcd(x,y)\n",
    "    \n",
    "    while True:\n",
    "        list.append(lcm(list.pop(), list.pop()))\n",
    "        if len(list) == 1:\n",
    "            return list[0]\n",
    "        \n",
    "a = int(input(\"Enter a: \" ))\n",
    "b = int(input(\"Enter b: \" ))\n",
    "c = int(input(\"Enter c: \" ))\n",
    "\n",
    "my_nums = [a,b,c]\n",
    "print(choi_so(my_nums))"
   ]
  },
  {
   "cell_type": "code",
   "execution_count": 3,
   "metadata": {},
   "outputs": [
    {
     "name": "stdout",
     "output_type": "stream",
     "text": [
      "2856\n"
     ]
    }
   ],
   "source": [
    "print(choi_so([12,34,56]))"
   ]
  },
  {
   "cell_type": "code",
   "execution_count": null,
   "metadata": {},
   "outputs": [],
   "source": []
  }
 ],
 "metadata": {
  "kernelspec": {
   "display_name": "Python 3",
   "language": "python",
   "name": "python3"
  },
  "language_info": {
   "codemirror_mode": {
    "name": "ipython",
    "version": 3
   },
   "file_extension": ".py",
   "mimetype": "text/x-python",
   "name": "python",
   "nbconvert_exporter": "python",
   "pygments_lexer": "ipython3",
   "version": "3.8.3"
  }
 },
 "nbformat": 4,
 "nbformat_minor": 4
}
